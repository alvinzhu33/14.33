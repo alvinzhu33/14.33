{
 "cells": [
  {
   "cell_type": "code",
   "execution_count": 1,
   "metadata": {},
   "outputs": [],
   "source": [
    "import numpy as np\n",
    "import pandas as pd\n",
    "import matplotlib.pyplot as plt"
   ]
  },
  {
   "cell_type": "code",
   "execution_count": 2,
   "metadata": {},
   "outputs": [],
   "source": [
    "covid = pd.read_csv('analysis.csv')"
   ]
  },
  {
   "cell_type": "code",
   "execution_count": 5,
   "metadata": {},
   "outputs": [
    {
     "data": {
      "text/plain": [
       "<matplotlib.collections.PathCollection at 0x22000350ba8>"
      ]
     },
     "execution_count": 5,
     "metadata": {},
     "output_type": "execute_result"
    },
    {
     "data": {
      "image/png": "[encoded data removed]",
      "text/plain": [
       "<Figure size 432x288 with 1 Axes>"
      ]
     },
     "metadata": {
      "needs_background": "light"
     },
     "output_type": "display_data"
    }
   ],
   "source": [
    "stateMean = covid.groupby('state').mean()\n",
    "plt.scatter(stateMean['subj'], stateMean['vaderPol'])\n",
    "#stateMean.to_csv('tableau.csv')"
   ]
  },
  {
   "cell_type": "code",
   "execution_count": 6,
   "metadata": {},
   "outputs": [
    {
     "data": {
      "text/plain": [
       "-0.01125119815"
      ]
     },
     "execution_count": 6,
     "metadata": {},
     "output_type": "execute_result"
    }
   ],
   "source": [
    "cases = pd.read_csv('../Data/Source Data/COVID - State - Daily.csv')\n",
    "cases[(cases['month']==10) & (cases['day']==29)]['case_count'].mean()*(-6.411*10**(-8))"
   ]
  },
  {
   "cell_type": "code",
   "execution_count": 7,
   "metadata": {
    "scrolled": true
   },
   "outputs": [
    {
     "name": "stdout",
     "output_type": "stream",
     "text": [
      "-0.0007726803529411766\n"
     ]
    }
   ],
   "source": [
    "spending = pd.read_csv('../Data/Source Data/Affinity - State - Daily.csv')\n",
    "spending = spending.replace('.', 0)\n",
    "spending['spend_all'] = spending['spend_all'].astype(float)\n",
    "spending['spend_all'] = spending['spend_all']*100\n",
    "\n",
    "spending1 = spending[(spending['month']==10) & (spending['day']==25)]\n",
    "print(spending1['spend_all'].mean()*(2.364*10**(-4)))"
   ]
  },
  {
   "cell_type": "code",
   "execution_count": 8,
   "metadata": {},
   "outputs": [
    {
     "data": {
      "text/plain": [
       "spend_all   -0.007857\n",
       "dtype: float64"
      ]
     },
     "execution_count": 8,
     "metadata": {},
     "output_type": "execute_result"
    }
   ],
   "source": [
    "spending[['statefips', 'spend_all']].groupby('statefips').min().mean()*(2.364*10**(-4))"
   ]
  },
  {
   "cell_type": "code",
   "execution_count": 9,
   "metadata": {},
   "outputs": [
    {
     "data": {
      "text/plain": [
       "-0.004791622549019607"
      ]
     },
     "execution_count": 9,
     "metadata": {},
     "output_type": "execute_result"
    }
   ],
   "source": [
    "employment = pd.read_csv('../Data/Source Data/Employment Combined - State - Daily.csv')\n",
    "employment = employment.replace('.', 0)\n",
    "employment['emp_combined'] = employment['emp_combined'].astype(float)\n",
    "employment.groupby('statefips').min()['emp_combined'].mean()*100*(2.075*10**(-4))"
   ]
  },
  {
   "cell_type": "code",
   "execution_count": 99,
   "metadata": {},
   "outputs": [
    {
     "data": {
      "text/plain": [
       "0.03724426470588236"
      ]
     },
     "execution_count": 99,
     "metadata": {},
     "output_type": "execute_result"
    }
   ],
   "source": [
    "outside = pd.read_csv('../Data/Source Data/Google Mobility - State - Daily.csv')\n",
    "outside = outside.replace('.', 0)\n",
    "outside['gps_away_from_home'] = outside['gps_away_from_home'].astype(float)\n",
    "outside.groupby('statefips').min()['gps_away_from_home'].mean()*100*(-1.641*10**(-3))"
   ]
  },
  {
   "cell_type": "code",
   "execution_count": null,
   "metadata": {},
   "outputs": [],
   "source": []
  }
 ],
 "metadata": {
  "kernelspec": {
   "display_name": "Python 3",
   "language": "python",
   "name": "python3"
  },
  "language_info": {
   "codemirror_mode": {
    "name": "ipython",
    "version": 3
   },
   "file_extension": ".py",
   "mimetype": "text/x-python",
   "name": "python",
   "nbconvert_exporter": "python",
   "pygments_lexer": "ipython3",
   "version": "3.7.0"
  }
 },
 "nbformat": 4,
 "nbformat_minor": 2
}
