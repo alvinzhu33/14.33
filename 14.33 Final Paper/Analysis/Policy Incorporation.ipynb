{
 "cells": [
  {
   "cell_type": "code",
   "execution_count": 1,
   "metadata": {},
   "outputs": [],
   "source": [
    "import numpy as np\n",
    "import pandas as pd"
   ]
  },
  {
   "cell_type": "code",
   "execution_count": 23,
   "metadata": {},
   "outputs": [],
   "source": [
    "def master(policies):\n",
    "    final = pd.read_csv('../Data/Data Processing/final.csv')\n",
    "    final['date'] = pd.to_datetime(final['date'])\n",
    "    dayCols = []\n",
    "    for policy in policies:\n",
    "        final[policy] = pd.to_datetime(final[policy])\n",
    "        for i in range(-15, 15):\n",
    "            final[policy+'day'+str(i)] = (final['date'] - final[policy])/np.timedelta64(1, 'D') == i\n",
    "            final[policy+'day'+str(i)] = final[policy+'day'+str(i)].astype(int)\n",
    "            dayCols.append(policy+'day'+str(i))\n",
    "    final['employment'] = final['employment']*100\n",
    "    final['outside'] = final['outside']*100\n",
    "    final['creditcardSpend'] = final['creditcardSpend']*100\n",
    "    final = final.drop(columns=['tweet_id','subj'])\n",
    "    final['dayColActive'] = final[dayCols].sum(axis=1)\n",
    "    final = final[final['dayColActive'] > 0]\n",
    "    del final['dayColActive']\n",
    "    final = final.sort_values(by=['state', 'date'])\n",
    "    final.to_csv(\"analysis.csv\",  index=False)"
   ]
  },
  {
   "cell_type": "code",
   "execution_count": 24,
   "metadata": {},
   "outputs": [],
   "source": [
    "master(['stayathome_start'])"
   ]
  },
  {
   "cell_type": "markdown",
   "metadata": {},
   "source": [
    "### Unused"
   ]
  },
  {
   "cell_type": "raw",
   "metadata": {},
   "source": [
    "def policyDummy():\n",
    "    final = pd.read_csv('../Data/Data Processing/final.csv')\n",
    "    final['stayathome_start'] = pd.to_datetime(final['stayathome_start'])\n",
    "    final['date'] = pd.to_datetime(final['date'])\n",
    "    final['afterPolicy'] = final['date'] >= final['stayathome_start']\n",
    "    final['afterPolicy'] = final['afterPolicy'].astype(int)\n",
    "    final['employment'] = final['employment']*100\n",
    "    final['outside'] = final['outside']*100\n",
    "    final['creditcardSpend'] = final['creditcardSpend']*100\n",
    "    final = final.sort_values(by=['state', 'date'])\n",
    "    final.to_csv(\"analysis2.csv\",  index=False)"
   ]
  },
  {
   "cell_type": "raw",
   "metadata": {},
   "source": [
    "policyDummy()"
   ]
  },
  {
   "cell_type": "code",
   "execution_count": null,
   "metadata": {},
   "outputs": [],
   "source": []
  }
 ],
 "metadata": {
  "kernelspec": {
   "display_name": "Python 3",
   "language": "python",
   "name": "python3"
  },
  "language_info": {
   "codemirror_mode": {
    "name": "ipython",
    "version": 3
   },
   "file_extension": ".py",
   "mimetype": "text/x-python",
   "name": "python",
   "nbconvert_exporter": "python",
   "pygments_lexer": "ipython3",
   "version": "3.7.0"
  }
 },
 "nbformat": 4,
 "nbformat_minor": 2
}
