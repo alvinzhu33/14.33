{
 "cells": [
  {
   "cell_type": "code",
   "execution_count": 1,
   "metadata": {},
   "outputs": [],
   "source": [
    "import numpy as np\n",
    "import pandas as pd"
   ]
  },
  {
   "cell_type": "code",
   "execution_count": 2,
   "metadata": {},
   "outputs": [],
   "source": [
    "def dayDummy():\n",
    "    final = pd.read_csv('../Data/Data Processing/final.csv')\n",
    "    final['stayathome_start'] = pd.to_datetime(final['stayathome_start'])\n",
    "    final['date'] = pd.to_datetime(final['date'])\n",
    "    dayCols = []\n",
    "    for i in range(-14, 15):\n",
    "        final['day'+str(i)] = (final['date'] - final['stayathome_start'])/np.timedelta64(1, 'D') == i\n",
    "        final['day'+str(i)] = final['day'+str(i)].astype(int)\n",
    "        dayCols.append('day'+str(i))\n",
    "    final['dayColActive'] = final[dayCols].sum(axis=1)\n",
    "    final = final[final['dayColActive'] > 0]\n",
    "    del final['dayColActive']\n",
    "    final = final.sort_values(by=['state', 'date'])\n",
    "    final.to_csv(\"analysis.csv\",  index=False)"
   ]
  },
  {
   "cell_type": "code",
   "execution_count": 3,
   "metadata": {},
   "outputs": [],
   "source": [
    "dayDummy()"
   ]
  },
  {
   "cell_type": "code",
   "execution_count": null,
   "metadata": {},
   "outputs": [],
   "source": []
  }
 ],
 "metadata": {
  "kernelspec": {
   "display_name": "Python 3",
   "language": "python",
   "name": "python3"
  },
  "language_info": {
   "codemirror_mode": {
    "name": "ipython",
    "version": 3
   },
   "file_extension": ".py",
   "mimetype": "text/x-python",
   "name": "python",
   "nbconvert_exporter": "python",
   "pygments_lexer": "ipython3",
   "version": "3.7.0"
  }
 },
 "nbformat": 4,
 "nbformat_minor": 2
}
