{
 "cells": [
  {
   "cell_type": "code",
   "execution_count": 1,
   "metadata": {},
   "outputs": [],
   "source": [
    "import pandas as pd\n",
    "import numpy as np\n",
    "import matplotlib.pyplot as plt\n",
    "import time\n",
    "from tqdm import tqdm_notebook as tqdm"
   ]
  },
  {
   "cell_type": "code",
   "execution_count": 2,
   "metadata": {},
   "outputs": [],
   "source": [
    "# Key\n",
    "states = pd.read_csv(\"../Source Data/GeoIDs - State.csv\")\n",
    "statesDict = dict(states[['statefips', 'stateabbrev']].values.tolist())"
   ]
  },
  {
   "cell_type": "code",
   "execution_count": 3,
   "metadata": {},
   "outputs": [],
   "source": [
    "def tweetsProcess():\n",
    "    allStates = pd.DataFrame()\n",
    "    for i in range(1, 11):\n",
    "        statesBatch = pd.read_csv('State Batches/states'+str(i)+'.csv')\n",
    "#         statesBatch = statesBatch.groupby(['state', 'date'], as_index=False).mean()\n",
    "        allStates = allStates.append(statesBatch)\n",
    "    allStates.to_csv(\"tweets.csv\", index=False)"
   ]
  },
  {
   "cell_type": "code",
   "execution_count": 4,
   "metadata": {},
   "outputs": [],
   "source": [
    "def creditCardSpendProcess():\n",
    "    spend = pd.read_csv('../Source Data/Affinity - State - Daily.csv')\n",
    "    spend = spend[spend['month']<= 5]\n",
    "\n",
    "    spend['month'] = spend['month'].map(\"{:02}\".format)\n",
    "    spend['day'] = spend['day'].map(\"{:02}\".format)\n",
    "    spend['spend_all'] = spend['spend_all'].replace('.', 0)\n",
    "    spend['date'] = spend['month'].map(str)+'/'+spend['day'].map(str)+'/'+spend['year'].map(str)\n",
    "    spend['date'] = pd.to_datetime(spend['date'])\n",
    "    spend['state'] = spend['statefips'].map(statesDict)\n",
    "    spend = spend[['state', 'date', 'spend_all']]\n",
    "    spend.columns = ['state', 'date', 'creditcardSpend']\n",
    "    \n",
    "    spend.to_csv(\"spend.csv\", index=False)"
   ]
  },
  {
   "cell_type": "code",
   "execution_count": 5,
   "metadata": {},
   "outputs": [],
   "source": [
    "def covidCasesProcess():\n",
    "    covid = pd.read_csv('../Source Data/COVID - State - Daily.csv')\n",
    "    covid = covid[covid['month']<= 5]\n",
    "\n",
    "    covid['date'] = covid['month'].map(str)+'/'+covid['day'].map(str)+'/'+covid['year'].map(str)\n",
    "    covid['date'] = pd.to_datetime(covid['date'])\n",
    "    covid['state'] = covid['statefips'].map(statesDict)\n",
    "    covid = covid[['state', 'date', 'case_count']]\n",
    "    covid.columns = ['state', 'date', 'covidCases']\n",
    "    \n",
    "    covid.to_csv(\"covid.csv\", index=False)"
   ]
  },
  {
   "cell_type": "code",
   "execution_count": 6,
   "metadata": {},
   "outputs": [],
   "source": [
    "def employmentProcess():\n",
    "    covid = pd.read_csv('../Source Data/Employment Combined - State - Daily.csv')\n",
    "    covid = covid[covid['month']<= 5]\n",
    "\n",
    "    covid['date'] = covid['month'].map(str)+'/'+covid['day'].map(str)+'/'+covid['year'].map(str)\n",
    "    covid['date'] = pd.to_datetime(covid['date'])\n",
    "    covid['state'] = covid['statefips'].map(statesDict)\n",
    "    covid = covid[['state', 'date', 'emp_combined']]\n",
    "    covid.columns = ['state', 'date', 'employment']\n",
    "    \n",
    "    covid.to_csv(\"employment.csv\", index=False)"
   ]
  },
  {
   "cell_type": "code",
   "execution_count": 7,
   "metadata": {},
   "outputs": [],
   "source": [
    "def outsideProcess():\n",
    "    covid = pd.read_csv('../Source Data/Google Mobility - State - Daily.csv')\n",
    "    covid = covid[covid['month']<= 5]\n",
    "\n",
    "    covid['date'] = covid['month'].map(str)+'/'+covid['day'].map(str)+'/'+covid['year'].map(str)\n",
    "    covid['date'] = pd.to_datetime(covid['date'])\n",
    "    covid['state'] = covid['statefips'].map(statesDict)\n",
    "    covid = covid[['state', 'date', 'gps_away_from_home']]\n",
    "    covid.columns = ['state', 'date', 'outside']\n",
    "    \n",
    "    covid.to_csv(\"outside.csv\", index=False)"
   ]
  },
  {
   "cell_type": "code",
   "execution_count": 8,
   "metadata": {},
   "outputs": [],
   "source": [
    "def policyProcess():\n",
    "    policy = pd.read_csv('../Source Data/Policy Milestones - State.csv')\n",
    "    policy['state'] = policy['statefips'].map(statesDict)\n",
    "#     policy = policy.drop(['statefips', 'statename'], axis=1)\n",
    "#     policy = policy[['state'] + list(policy.columns)[:-1]]\n",
    "    policy = policy[['state', 'stayathome_start']]\n",
    "    policy.to_csv('policy.csv', index=False)"
   ]
  },
  {
   "cell_type": "code",
   "execution_count": 9,
   "metadata": {},
   "outputs": [],
   "source": [
    "tweetsProcess()\n",
    "creditCardSpendProcess()\n",
    "covidCasesProcess()\n",
    "employmentProcess()\n",
    "outsideProcess()\n",
    "policyProcess()"
   ]
  },
  {
   "cell_type": "code",
   "execution_count": null,
   "metadata": {},
   "outputs": [],
   "source": []
  },
  {
   "cell_type": "code",
   "execution_count": 10,
   "metadata": {},
   "outputs": [],
   "source": [
    "def combineAll():\n",
    "    tweets = pd.read_csv('tweets.csv')\n",
    "    covid = pd.read_csv('covid.csv')\n",
    "    employment = pd.read_csv('employment.csv')\n",
    "    outside = pd.read_csv('outside.csv')\n",
    "    spend = pd.read_csv('spend.csv')\n",
    "    policy = pd.read_csv('policy.csv')\n",
    "    \n",
    "    ultimate = pd.merge(tweets, covid, on=['state', 'date'])\n",
    "    ultimate = pd.merge(ultimate, employment, on=['state', 'date'])\n",
    "    ultimate = pd.merge(ultimate, outside, on=['state', 'date'])\n",
    "    ultimate = pd.merge(ultimate, spend, on=['state', 'date'])\n",
    "    ultimate = pd.merge(ultimate, policy, on=['state'])\n",
    "    \n",
    "    ultimate.to_csv('final.csv', index=False)"
   ]
  },
  {
   "cell_type": "code",
   "execution_count": 11,
   "metadata": {},
   "outputs": [],
   "source": [
    "combineAll()"
   ]
  },
  {
   "cell_type": "code",
   "execution_count": null,
   "metadata": {},
   "outputs": [],
   "source": []
  },
  {
   "cell_type": "code",
   "execution_count": null,
   "metadata": {},
   "outputs": [],
   "source": []
  }
 ],
 "metadata": {
  "kernelspec": {
   "display_name": "Python 3",
   "language": "python",
   "name": "python3"
  },
  "language_info": {
   "codemirror_mode": {
    "name": "ipython",
    "version": 3
   },
   "file_extension": ".py",
   "mimetype": "text/x-python",
   "name": "python",
   "nbconvert_exporter": "python",
   "pygments_lexer": "ipython3",
   "version": "3.7.0"
  }
 },
 "nbformat": 4,
 "nbformat_minor": 2
}
