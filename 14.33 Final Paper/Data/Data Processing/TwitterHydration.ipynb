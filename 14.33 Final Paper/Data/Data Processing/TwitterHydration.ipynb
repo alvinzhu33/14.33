{
 "cells": [
  {
   "cell_type": "code",
   "execution_count": null,
   "metadata": {},
   "outputs": [],
   "source": [
    "import tweepy\n",
    "from textblob import TextBlob\n",
    "from wordcloud import WordCloud\n",
    "import pandas as pd\n",
    "import numpy as np\n",
    "import re\n",
    "import matplotlib.pyplot as plt\n",
    "import time\n",
    "from tqdm import tqdm_notebook as tqdm\n",
    "import json"
   ]
  },
  {
   "cell_type": "code",
   "execution_count": null,
   "metadata": {},
   "outputs": [],
   "source": [
    "consumerKey = 'rpuYCEeUyzjGQ2hvC0JEQEmnf'\n",
    "consumerSecret = 'XBoNeSo2bWRp1msgIb5NO8UYHOZuJETz9pNB4HDPRPlYScBH1y'\n",
    "accessToken = '219520986-3KBJ4KRKR06s0q3yymyHpQKZx0LeTSpX7gpohSEp'\n",
    "accessTokenSecret = 'ArvbcYIMvo6MXCl3KWrxw0IEdBuXaywakpSQGIOFYTbPC'"
   ]
  },
  {
   "cell_type": "code",
   "execution_count": null,
   "metadata": {},
   "outputs": [],
   "source": [
    "# Create the authentication object\n",
    "authenticate = tweepy.OAuthHandler(consumerKey, consumerSecret) \n",
    "    \n",
    "# Set the access token and access token secret\n",
    "authenticate.set_access_token(accessToken, accessTokenSecret) \n",
    "    \n",
    "# Creating the API object while passing in auth information\n",
    "api = tweepy.API(authenticate, wait_on_rate_limit = True)"
   ]
  },
  {
   "cell_type": "code",
   "execution_count": null,
   "metadata": {},
   "outputs": [],
   "source": [
    "# Create a function to get the subjectivity\n",
    "def getSubjectivity(text):\n",
    "   return TextBlob(text).sentiment.subjectivity\n",
    "\n",
    "# Create a function to get the polarity\n",
    "def getPolarity(text):\n",
    "   return  TextBlob(text).sentiment.polarity"
   ]
  },
  {
   "cell_type": "code",
   "execution_count": null,
   "metadata": {},
   "outputs": [],
   "source": [
    "stateBatches = {\n",
    "    'states1' : ['AK', 'AL', 'AR', \"AZ\", 'CA'],\n",
    "    'states2' : [\"CO\", 'CT', 'DC', 'DE', 'FL'],\n",
    "    'states3' : ['GA', 'HI', 'IA', 'ID', 'IL'],\n",
    "    'states4' : ['IN', 'KS', 'KY', 'LA', 'MA'],\n",
    "    'states5' : ['MD', 'ME', \"MI\", 'MN', \"MO\"],\n",
    "    'states6' : [\"MS\", 'MT', 'NC', 'ND', 'NE'],\n",
    "    'states7' : ['NH', 'NJ', 'NM', 'NV', 'NY'],\n",
    "    'states8' : ['OH', 'OK', 'OR', 'PA', 'RI'],\n",
    "    'states9' : ['SC', 'SD', 'TN', 'TX', 'UT'],\n",
    "    'states10' : ['VA', 'VT', 'WA', 'WI', 'WV', 'WY']\n",
    "}"
   ]
  },
  {
   "cell_type": "code",
   "execution_count": null,
   "metadata": {},
   "outputs": [],
   "source": [
    "def readCSV(states):\n",
    "    ids = {}\n",
    "    batchNum = 0\n",
    "    for state in states:\n",
    "        stateTweets = pd.read_csv('../Source Data/States/'+state+'.csv')['Tweet_ID']\n",
    "        i = 0\n",
    "        tweetIds = []\n",
    "        tempTweets = []\n",
    "        for tweetId in stateTweets:\n",
    "            tempTweets.append(tweetId)\n",
    "            if i == 99:\n",
    "                tweetIds.append(tempTweets)\n",
    "                tempTweets = []\n",
    "                i = -1\n",
    "                batchNum += 1\n",
    "            i += 1\n",
    "        if len(tempTweets) > 0:\n",
    "            tweetIds.append(tempTweets)\n",
    "            batchNum += 1\n",
    "        ids[state] = tweetIds\n",
    "    return ids, batchNum"
   ]
  },
  {
   "cell_type": "code",
   "execution_count": null,
   "metadata": {},
   "outputs": [],
   "source": [
    "def makeCSV(ids, batchNum):\n",
    "    info = []\n",
    "    pbar = tqdm(total=batchNum)\n",
    "    for state in ids.keys():\n",
    "        for batch in ids[state]:\n",
    "            pbar.update(1)\n",
    "            tweets = api.statuses_lookup(batch)\n",
    "            for tweet in tweets:\n",
    "                text = tweet.text\n",
    "                date = str(tweet.created_at).split(\" \")[0]\n",
    "                subj = getSubjectivity(text)\n",
    "                pol = getPolarity(text)\n",
    "                info.append([state, date, tweet.id, subj, pol])\n",
    "    return info\n",
    "    pbar.close()"
   ]
  },
  {
   "cell_type": "code",
   "execution_count": null,
   "metadata": {},
   "outputs": [],
   "source": [
    "def saveCSV(info, name):\n",
    "    saver = pd.DataFrame(info)\n",
    "    saver.columns = ['state', 'date', 'tweet_id', 'subj', 'pol']\n",
    "    saver.to_csv('./State Batches/'+name+\".csv\", index=False)"
   ]
  },
  {
   "cell_type": "code",
   "execution_count": null,
   "metadata": {},
   "outputs": [],
   "source": [
    "for stateBatch in stateBatches.keys():\n",
    "    test, batchNum = readCSV(stateBatches[stateBatch])\n",
    "    test2 = makeCSV(test, batchNum)\n",
    "    saveCSV(test2, stateBatch)"
   ]
  },
  {
   "cell_type": "code",
   "execution_count": null,
   "metadata": {},
   "outputs": [],
   "source": []
  }
 ],
 "metadata": {
  "kernelspec": {
   "display_name": "Python 3",
   "language": "python",
   "name": "python3"
  },
  "language_info": {
   "codemirror_mode": {
    "name": "ipython",
    "version": 3
   },
   "file_extension": ".py",
   "mimetype": "text/x-python",
   "name": "python",
   "nbconvert_exporter": "python",
   "pygments_lexer": "ipython3",
   "version": "3.7.0"
  }
 },
 "nbformat": 4,
 "nbformat_minor": 2
}
