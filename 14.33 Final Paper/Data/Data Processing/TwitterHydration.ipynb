{
 "cells": [
  {
   "cell_type": "code",
   "execution_count": 1,
   "metadata": {},
   "outputs": [
    {
     "name": "stderr",
     "output_type": "stream",
     "text": [
      "C:\\Users\\alvin\\Anaconda3\\lib\\site-packages\\nltk\\twitter\\__init__.py:20: UserWarning: The twython library has not been installed. Some functionality from the twitter package will not be available.\n",
      "  warnings.warn(\"The twython library has not been installed. \"\n"
     ]
    },
    {
     "name": "stdout",
     "output_type": "stream",
     "text": [
      "[nltk_data] Downloading package vader_lexicon to\n",
      "[nltk_data]     C:\\Users\\alvin\\AppData\\Roaming\\nltk_data...\n",
      "[nltk_data]   Package vader_lexicon is already up-to-date!\n"
     ]
    },
    {
     "data": {
      "text/plain": [
       "True"
      ]
     },
     "execution_count": 1,
     "metadata": {},
     "output_type": "execute_result"
    }
   ],
   "source": [
    "import tweepy\n",
    "from textblob import TextBlob\n",
    "from wordcloud import WordCloud\n",
    "import pandas as pd\n",
    "import numpy as np\n",
    "import re\n",
    "import matplotlib.pyplot as plt\n",
    "import time\n",
    "from tqdm import tqdm_notebook as tqdm\n",
    "import json\n",
    "import nltk\n",
    "from nltk.sentiment.vader import SentimentIntensityAnalyzer\n",
    "nltk.download('vader_lexicon')"
   ]
  },
  {
   "cell_type": "code",
   "execution_count": 2,
   "metadata": {},
   "outputs": [],
   "source": [
    "consumerKey = 'rpuYCEeUyzjGQ2hvC0JEQEmnf'\n",
    "consumerSecret = 'XBoNeSo2bWRp1msgIb5NO8UYHOZuJETz9pNB4HDPRPlYScBH1y'\n",
    "accessToken = '219520986-3KBJ4KRKR06s0q3yymyHpQKZx0LeTSpX7gpohSEp'\n",
    "accessTokenSecret = 'ArvbcYIMvo6MXCl3KWrxw0IEdBuXaywakpSQGIOFYTbPC'"
   ]
  },
  {
   "cell_type": "code",
   "execution_count": 3,
   "metadata": {},
   "outputs": [],
   "source": [
    "# Create the authentication object\n",
    "authenticate = tweepy.OAuthHandler(consumerKey, consumerSecret) \n",
    "    \n",
    "# Set the access token and access token secret\n",
    "authenticate.set_access_token(accessToken, accessTokenSecret) \n",
    "    \n",
    "# Creating the API object while passing in auth information\n",
    "api = tweepy.API(authenticate, wait_on_rate_limit = True)"
   ]
  },
  {
   "cell_type": "code",
   "execution_count": 4,
   "metadata": {},
   "outputs": [],
   "source": [
    "# Create a function to get the subjectivity\n",
    "def getSubjectivity(text):\n",
    "   return TextBlob(text).sentiment.subjectivity\n",
    "\n",
    "# Create a function to get the polarity\n",
    "def getPolarity(text):\n",
    "   return  TextBlob(text).sentiment.polarity\n",
    "\n",
    "sid = SentimentIntensityAnalyzer()"
   ]
  },
  {
   "cell_type": "code",
   "execution_count": 5,
   "metadata": {},
   "outputs": [],
   "source": [
    "stateBatches = {\n",
    "    'states1' : ['AK', 'AL', 'AR', \"AZ\", 'CA'],\n",
    "    'states2' : [\"CO\", 'CT', 'DC', 'DE', 'FL'],\n",
    "    'states3' : ['GA', 'HI', 'IA', 'ID', 'IL'],\n",
    "    'states4' : ['IN', 'KS', 'KY', 'LA', 'MA'],\n",
    "    'states5' : ['MD', 'ME', \"MI\", 'MN', \"MO\"],\n",
    "    'states6' : [\"MS\", 'MT', 'NC', 'ND', 'NE'],\n",
    "    'states7' : ['NH', 'NJ', 'NM', 'NV', 'NY'],\n",
    "    'states8' : ['OH', 'OK', 'OR', 'PA', 'RI'],\n",
    "    'states9' : ['SC', 'SD', 'TN', 'TX', 'UT'],\n",
    "    'states10' : ['VA', 'VT', 'WA', 'WI', 'WV', 'WY']\n",
    "}"
   ]
  },
  {
   "cell_type": "code",
   "execution_count": 6,
   "metadata": {},
   "outputs": [],
   "source": [
    "def readCSV(states):\n",
    "    ids = {}\n",
    "    batchNum = 0\n",
    "    for state in states:\n",
    "        stateTweets = pd.read_csv('../Source Data/States/'+state+'.csv')['Tweet_ID']\n",
    "        i = 0\n",
    "        tweetIds = []\n",
    "        tempTweets = []\n",
    "        for tweetId in stateTweets:\n",
    "            tempTweets.append(tweetId)\n",
    "            if i == 99:\n",
    "                tweetIds.append(tempTweets)\n",
    "                tempTweets = []\n",
    "                i = -1\n",
    "                batchNum += 1\n",
    "            i += 1\n",
    "        if len(tempTweets) > 0:\n",
    "            tweetIds.append(tempTweets)\n",
    "            batchNum += 1\n",
    "        ids[state] = tweetIds\n",
    "    return ids, batchNum"
   ]
  },
  {
   "cell_type": "code",
   "execution_count": 7,
   "metadata": {},
   "outputs": [],
   "source": [
    "def makeCSV(ids, batchNum):\n",
    "    info = []\n",
    "    pbar = tqdm(total=batchNum)\n",
    "    for state in ids.keys():\n",
    "        for batch in ids[state]:\n",
    "            pbar.update(1)\n",
    "            tweets = api.statuses_lookup(batch)\n",
    "            for tweet in tweets:\n",
    "                text = tweet.text\n",
    "                date = str(tweet.created_at).split(\" \")[0]\n",
    "                subj = getSubjectivity(text)\n",
    "                pol = getPolarity(text)\n",
    "                vaderPol = sid.polarity_scores(text)['compound']\n",
    "                info.append([state, date, tweet.id, subj, pol, vaderPol])\n",
    "    return info\n",
    "    pbar.close()"
   ]
  },
  {
   "cell_type": "code",
   "execution_count": 8,
   "metadata": {},
   "outputs": [],
   "source": [
    "def saveCSV(info, name):\n",
    "    saver = pd.DataFrame(info)\n",
    "    saver.columns = ['state', 'date', 'tweet_id', 'subj', 'pol', 'vaderPol']\n",
    "    saver.to_csv('./State Batches/'+name+\".csv\", index=False)"
   ]
  },
  {
   "cell_type": "code",
   "execution_count": 9,
   "metadata": {
    "scrolled": true
   },
   "outputs": [
    {
     "data": {
      "application/vnd.jupyter.widget-view+json": {
       "model_id": "7f66de6a91f04be0b4a7060ae26f0509",
       "version_major": 2,
       "version_minor": 0
      },
      "text/plain": [
       "HBox(children=(IntProgress(value=0, max=1291), HTML(value='')))"
      ]
     },
     "metadata": {},
     "output_type": "display_data"
    },
    {
     "data": {
      "application/vnd.jupyter.widget-view+json": {
       "model_id": "0ab82ed2528e4f04b74dbafa9910020d",
       "version_major": 2,
       "version_minor": 0
      },
      "text/plain": [
       "HBox(children=(IntProgress(value=0, max=785), HTML(value='')))"
      ]
     },
     "metadata": {},
     "output_type": "display_data"
    },
    {
     "data": {
      "application/vnd.jupyter.widget-view+json": {
       "model_id": "ba6bd5987595431ea6714800ea777c75",
       "version_major": 2,
       "version_minor": 0
      },
      "text/plain": [
       "HBox(children=(IntProgress(value=0, max=520), HTML(value='')))"
      ]
     },
     "metadata": {},
     "output_type": "display_data"
    },
    {
     "data": {
      "application/vnd.jupyter.widget-view+json": {
       "model_id": "ae8a7542553b48c08e1eb6f8a07ad7f4",
       "version_major": 2,
       "version_minor": 0
      },
      "text/plain": [
       "HBox(children=(IntProgress(value=0, max=447), HTML(value='')))"
      ]
     },
     "metadata": {},
     "output_type": "display_data"
    },
    {
     "data": {
      "application/vnd.jupyter.widget-view+json": {
       "model_id": "99e4a181c65a42b5bce3004d8bed217e",
       "version_major": 2,
       "version_minor": 0
      },
      "text/plain": [
       "HBox(children=(IntProgress(value=0, max=486), HTML(value='')))"
      ]
     },
     "metadata": {},
     "output_type": "display_data"
    },
    {
     "data": {
      "application/vnd.jupyter.widget-view+json": {
       "model_id": "5e11176513c34eabbd54db59b487f160",
       "version_major": 2,
       "version_minor": 0
      },
      "text/plain": [
       "HBox(children=(IntProgress(value=0, max=240), HTML(value='')))"
      ]
     },
     "metadata": {},
     "output_type": "display_data"
    },
    {
     "data": {
      "application/vnd.jupyter.widget-view+json": {
       "model_id": "89c8d9c3926e4bb882d73635d4c71231",
       "version_major": 2,
       "version_minor": 0
      },
      "text/plain": [
       "HBox(children=(IntProgress(value=0, max=899), HTML(value='')))"
      ]
     },
     "metadata": {},
     "output_type": "display_data"
    },
    {
     "data": {
      "application/vnd.jupyter.widget-view+json": {
       "model_id": "686ce71e6fd74c308f1d5cb73e3b7df0",
       "version_major": 2,
       "version_minor": 0
      },
      "text/plain": [
       "HBox(children=(IntProgress(value=0, max=569), HTML(value='')))"
      ]
     },
     "metadata": {},
     "output_type": "display_data"
    },
    {
     "data": {
      "application/vnd.jupyter.widget-view+json": {
       "model_id": "d3ba1bad16394c06a959ad052feaa424",
       "version_major": 2,
       "version_minor": 0
      },
      "text/plain": [
       "HBox(children=(IntProgress(value=0, max=878), HTML(value='')))"
      ]
     },
     "metadata": {},
     "output_type": "display_data"
    },
    {
     "data": {
      "application/vnd.jupyter.widget-view+json": {
       "model_id": "b206b86cc35a48e0a41d5c55db70b2dc",
       "version_major": 2,
       "version_minor": 0
      },
      "text/plain": [
       "HBox(children=(IntProgress(value=0, max=418), HTML(value='')))"
      ]
     },
     "metadata": {},
     "output_type": "display_data"
    }
   ],
   "source": [
    "for stateBatch in stateBatches.keys():\n",
    "    test, batchNum = readCSV(stateBatches[stateBatch])\n",
    "    test2 = makeCSV(test, batchNum)\n",
    "    saveCSV(test2, stateBatch)"
   ]
  },
  {
   "cell_type": "code",
   "execution_count": null,
   "metadata": {},
   "outputs": [],
   "source": []
  }
 ],
 "metadata": {
  "kernelspec": {
   "display_name": "Python 3",
   "language": "python",
   "name": "python3"
  },
  "language_info": {
   "codemirror_mode": {
    "name": "ipython",
    "version": 3
   },
   "file_extension": ".py",
   "mimetype": "text/x-python",
   "name": "python",
   "nbconvert_exporter": "python",
   "pygments_lexer": "ipython3",
   "version": "3.7.0"
  }
 },
 "nbformat": 4,
 "nbformat_minor": 2
}
