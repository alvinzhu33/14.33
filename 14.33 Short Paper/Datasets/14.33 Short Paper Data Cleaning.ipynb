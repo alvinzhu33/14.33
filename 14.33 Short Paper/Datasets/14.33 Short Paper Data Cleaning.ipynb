{
 "cells": [
  {
   "cell_type": "code",
   "execution_count": 1,
   "metadata": {},
   "outputs": [],
   "source": [
    "import pandas as pd\n",
    "import numpy as np\n",
    "import matplotlib.pyplot as plt"
   ]
  },
  {
   "cell_type": "markdown",
   "metadata": {},
   "source": [
    "# Read and Drop"
   ]
  },
  {
   "cell_type": "code",
   "execution_count": 2,
   "metadata": {},
   "outputs": [
    {
     "data": {
      "text/plain": [
       "Index(['FIPS', 'stateFIPS', 'state', 'county', 'stateAbb', 'region',\n",
       "       'earlyVoting', 'democrat', 'republican', 'medianIncome',\n",
       "       'populationOver18', 'medianAge', 'educTillHS', 'educSomeCollege',\n",
       "       'educCollegeUp', 'shareWhite', 'shareBlack', 'shareAsian',\n",
       "       'shareOtherRace', 'shareHispanic', 'prcpMm', 'minTempC', 'maxTempC',\n",
       "       'prcpMm1015', 'minTempC1015', 'maxTempC1015', 'demSenate', 'repSenate',\n",
       "       'totalSenate', 'registered', 'numPollWorkers',\n",
       "       'difficultToObtainPollWorkers', 'voted', 'votedPhysical', 'votedUOCAVA',\n",
       "       'votedAbsentee', 'votedProvisional', 'votedEarlyVoteCenter',\n",
       "       'votedByMail', 'votedOther', 'votedOtherExplanation', 'allowSameDay',\n",
       "       'repState', 'demState', 'closeElection', 'turnout', 'turnout2',\n",
       "       'haveSenate', 'closeSenate', 'closePresSenate', 'freezing',\n",
       "       'shareSameDay', 'shareRep'],\n",
       "      dtype='object')"
      ]
     },
     "execution_count": 2,
     "metadata": {},
     "output_type": "execute_result"
    }
   ],
   "source": [
    "votes = pd.read_csv(\"Voting.csv\")\n",
    "votes.columns"
   ]
  },
  {
   "cell_type": "code",
   "execution_count": 3,
   "metadata": {},
   "outputs": [
    {
     "data": {
      "text/html": [
       "<div>\n",
       "<style scoped>\n",
       "    .dataframe tbody tr th:only-of-type {\n",
       "        vertical-align: middle;\n",
       "    }\n",
       "\n",
       "    .dataframe tbody tr th {\n",
       "        vertical-align: top;\n",
       "    }\n",
       "\n",
       "    .dataframe thead th {\n",
       "        text-align: right;\n",
       "    }\n",
       "</style>\n",
       "<table border=\"1\" class=\"dataframe\">\n",
       "  <thead>\n",
       "    <tr style=\"text-align: right;\">\n",
       "      <th></th>\n",
       "      <th>FIPS</th>\n",
       "      <th>democrat</th>\n",
       "      <th>republican</th>\n",
       "      <th>populationOver18</th>\n",
       "      <th>medianAge</th>\n",
       "      <th>prcpMm</th>\n",
       "      <th>minTempC</th>\n",
       "      <th>maxTempC</th>\n",
       "      <th>prcpMm1015</th>\n",
       "      <th>minTempC1015</th>\n",
       "      <th>...</th>\n",
       "      <th>votedByMail</th>\n",
       "      <th>votedOther</th>\n",
       "      <th>votedOtherExplanation</th>\n",
       "      <th>repState</th>\n",
       "      <th>demState</th>\n",
       "      <th>turnout</th>\n",
       "      <th>turnout2</th>\n",
       "      <th>freezing</th>\n",
       "      <th>shareRep</th>\n",
       "      <th>year</th>\n",
       "    </tr>\n",
       "  </thead>\n",
       "  <tbody>\n",
       "    <tr>\n",
       "      <th>0</th>\n",
       "      <td>1001</td>\n",
       "      <td>5936.0</td>\n",
       "      <td>18172</td>\n",
       "      <td>41196</td>\n",
       "      <td>37.8</td>\n",
       "      <td>0.00</td>\n",
       "      <td>NaN</td>\n",
       "      <td>NaN</td>\n",
       "      <td>2.529167</td>\n",
       "      <td>NaN</td>\n",
       "      <td>...</td>\n",
       "      <td>NaN</td>\n",
       "      <td>NaN</td>\n",
       "      <td>NaN</td>\n",
       "      <td>1318250</td>\n",
       "      <td>729547.0</td>\n",
       "      <td>0.585202</td>\n",
       "      <td>0.610399</td>\n",
       "      <td>NaN</td>\n",
       "      <td>0.753775</td>\n",
       "      <td>2016</td>\n",
       "    </tr>\n",
       "    <tr>\n",
       "      <th>1</th>\n",
       "      <td>1003</td>\n",
       "      <td>18458.0</td>\n",
       "      <td>72883</td>\n",
       "      <td>155240</td>\n",
       "      <td>42.3</td>\n",
       "      <td>0.11</td>\n",
       "      <td>NaN</td>\n",
       "      <td>NaN</td>\n",
       "      <td>8.659957</td>\n",
       "      <td>NaN</td>\n",
       "      <td>...</td>\n",
       "      <td>NaN</td>\n",
       "      <td>NaN</td>\n",
       "      <td>NaN</td>\n",
       "      <td>1318250</td>\n",
       "      <td>729547.0</td>\n",
       "      <td>0.588386</td>\n",
       "      <td>0.619872</td>\n",
       "      <td>NaN</td>\n",
       "      <td>0.797922</td>\n",
       "      <td>2016</td>\n",
       "    </tr>\n",
       "    <tr>\n",
       "      <th>2</th>\n",
       "      <td>1005</td>\n",
       "      <td>4871.0</td>\n",
       "      <td>5454</td>\n",
       "      <td>20879</td>\n",
       "      <td>38.7</td>\n",
       "      <td>0.00</td>\n",
       "      <td>10.766667</td>\n",
       "      <td>25.566667</td>\n",
       "      <td>7.552778</td>\n",
       "      <td>5.966667</td>\n",
       "      <td>...</td>\n",
       "      <td>NaN</td>\n",
       "      <td>NaN</td>\n",
       "      <td>NaN</td>\n",
       "      <td>1318250</td>\n",
       "      <td>729547.0</td>\n",
       "      <td>0.494516</td>\n",
       "      <td>0.505005</td>\n",
       "      <td>False</td>\n",
       "      <td>0.528232</td>\n",
       "      <td>2016</td>\n",
       "    </tr>\n",
       "    <tr>\n",
       "      <th>3</th>\n",
       "      <td>1007</td>\n",
       "      <td>1874.0</td>\n",
       "      <td>6738</td>\n",
       "      <td>17816</td>\n",
       "      <td>40.2</td>\n",
       "      <td>0.00</td>\n",
       "      <td>10.600000</td>\n",
       "      <td>23.300000</td>\n",
       "      <td>1.950000</td>\n",
       "      <td>2.966667</td>\n",
       "      <td>...</td>\n",
       "      <td>NaN</td>\n",
       "      <td>NaN</td>\n",
       "      <td>NaN</td>\n",
       "      <td>1318250</td>\n",
       "      <td>729547.0</td>\n",
       "      <td>0.483386</td>\n",
       "      <td>0.496913</td>\n",
       "      <td>False</td>\n",
       "      <td>0.782397</td>\n",
       "      <td>2016</td>\n",
       "    </tr>\n",
       "    <tr>\n",
       "      <th>4</th>\n",
       "      <td>1009</td>\n",
       "      <td>2156.0</td>\n",
       "      <td>22859</td>\n",
       "      <td>44103</td>\n",
       "      <td>40.8</td>\n",
       "      <td>0.00</td>\n",
       "      <td>12.800000</td>\n",
       "      <td>21.700000</td>\n",
       "      <td>2.130952</td>\n",
       "      <td>6.275000</td>\n",
       "      <td>...</td>\n",
       "      <td>NaN</td>\n",
       "      <td>NaN</td>\n",
       "      <td>NaN</td>\n",
       "      <td>1318250</td>\n",
       "      <td>729547.0</td>\n",
       "      <td>0.567195</td>\n",
       "      <td>0.583634</td>\n",
       "      <td>False</td>\n",
       "      <td>0.913812</td>\n",
       "      <td>2016</td>\n",
       "    </tr>\n",
       "  </tbody>\n",
       "</table>\n",
       "<p>5 rows × 28 columns</p>\n",
       "</div>"
      ],
      "text/plain": [
       "   FIPS  democrat  republican  populationOver18  medianAge  prcpMm   minTempC  \\\n",
       "0  1001    5936.0       18172             41196       37.8    0.00        NaN   \n",
       "1  1003   18458.0       72883            155240       42.3    0.11        NaN   \n",
       "2  1005    4871.0        5454             20879       38.7    0.00  10.766667   \n",
       "3  1007    1874.0        6738             17816       40.2    0.00  10.600000   \n",
       "4  1009    2156.0       22859             44103       40.8    0.00  12.800000   \n",
       "\n",
       "    maxTempC  prcpMm1015  minTempC1015  ...  votedByMail  votedOther  \\\n",
       "0        NaN    2.529167           NaN  ...          NaN         NaN   \n",
       "1        NaN    8.659957           NaN  ...          NaN         NaN   \n",
       "2  25.566667    7.552778      5.966667  ...          NaN         NaN   \n",
       "3  23.300000    1.950000      2.966667  ...          NaN         NaN   \n",
       "4  21.700000    2.130952      6.275000  ...          NaN         NaN   \n",
       "\n",
       "   votedOtherExplanation  repState  demState   turnout  turnout2  freezing  \\\n",
       "0                    NaN   1318250  729547.0  0.585202  0.610399       NaN   \n",
       "1                    NaN   1318250  729547.0  0.588386  0.619872       NaN   \n",
       "2                    NaN   1318250  729547.0  0.494516  0.505005     False   \n",
       "3                    NaN   1318250  729547.0  0.483386  0.496913     False   \n",
       "4                    NaN   1318250  729547.0  0.567195  0.583634     False   \n",
       "\n",
       "   shareRep  year  \n",
       "0  0.753775  2016  \n",
       "1  0.797922  2016  \n",
       "2  0.528232  2016  \n",
       "3  0.782397  2016  \n",
       "4  0.913812  2016  \n",
       "\n",
       "[5 rows x 28 columns]"
      ]
     },
     "execution_count": 3,
     "metadata": {},
     "output_type": "execute_result"
    }
   ],
   "source": [
    "drops = ['stateFIPS', 'educTillHS', 'educSomeCollege', 'educCollegeUp',\n",
    "         'state', 'shareWhite', 'shareBlack', 'shareAsian', 'shareOtherRace', 'shareHispanic', \n",
    "         'demSenate', 'repSenate', 'totalSenate', 'haveSenate', 'closeSenate', 'closePresSenate',\n",
    "         'numPollWorkers', 'difficultToObtainPollWorkers', \n",
    "         'allowSameDay', 'earlyVoting', 'closeElection', 'shareSameDay',\n",
    "         'county', 'stateAbb', 'region', 'medianIncome']\n",
    "votes = votes.drop(columns=drops)\n",
    "votes['year'] = 2016\n",
    "votes.head()"
   ]
  },
  {
   "cell_type": "markdown",
   "metadata": {},
   "source": [
    "# Ensuring there are an adequate amount of in-person votes"
   ]
  },
  {
   "cell_type": "code",
   "execution_count": 4,
   "metadata": {},
   "outputs": [],
   "source": [
    "# Replace all NAs for voting numbers to 0\n",
    "votes[['voted', 'votedPhysical', 'votedUOCAVA', 'votedAbsentee', 'votedProvisional', 'votedEarlyVoteCenter', 'votedByMail', 'votedOther', 'votedOtherExplanation']] = votes[['voted', 'votedPhysical', 'votedUOCAVA', 'votedAbsentee', 'votedProvisional', 'votedEarlyVoteCenter', 'votedByMail', 'votedOther', 'votedOtherExplanation']].fillna(0)"
   ]
  },
  {
   "cell_type": "code",
   "execution_count": 5,
   "metadata": {},
   "outputs": [],
   "source": [
    "# Drop records that don't have a voted or votedPhysical component (no data on in-person votes)\n",
    "votes.loc[((votes['votedPhysical']==0) & (votes['voted']==0)), 'noVotedData'] = True\n",
    "votes = votes[votes['noVotedData'] != True]\n",
    "votes = votes.drop(columns=['noVotedData'])"
   ]
  },
  {
   "cell_type": "markdown",
   "metadata": {},
   "source": [
    "## 3 Cases:"
   ]
  },
  {
   "cell_type": "code",
   "execution_count": 6,
   "metadata": {},
   "outputs": [],
   "source": [
    "# Useful partial for sum of non votedPhysical\n",
    "votes['sumOtherVotes'] = votes['votedUOCAVA'] +  votes['votedAbsentee'] + votes['votedProvisional'] + votes['votedEarlyVoteCenter'] + votes['votedByMail'] + votes['votedOther'] + votes['votedOtherExplanation']"
   ]
  },
  {
   "cell_type": "code",
   "execution_count": 7,
   "metadata": {},
   "outputs": [],
   "source": [
    "# Case 1: voted and votedPhysical are not null\n",
    "votes.loc[((votes['votedPhysical']!=0) & (votes['voted']!=0)), 'sumInPerson'] = votes['votedPhysical']\n",
    "votes.loc[((votes['votedPhysical']!=0) & (votes['voted']!=0)), 'sumNotInPerson'] = votes['voted'] - votes['votedPhysical']"
   ]
  },
  {
   "cell_type": "code",
   "execution_count": 8,
   "metadata": {},
   "outputs": [],
   "source": [
    "# Case 2: votedPhysical is null -> use voted\n",
    "votes.loc[((votes['voted']!=0) & (votes['sumInPerson'].isna())), 'sumInPerson'] = votes['voted'] - votes['sumOtherVotes']\n",
    "votes.loc[((votes['voted']!=0) & (votes['sumNotInPerson'].isna())), 'sumNotInPerson'] = votes['sumOtherVotes']"
   ]
  },
  {
   "cell_type": "code",
   "execution_count": 9,
   "metadata": {
    "scrolled": true
   },
   "outputs": [],
   "source": [
    "# Case 3: voted is null -> use votedPhysical\n",
    "votes.loc[((votes['votedPhysical']!=0) & (votes['sumInPerson'].isna())), 'sumInPerson'] = votes['votedPhysical']\n",
    "votes.loc[((votes['votedPhysical']!=0) & (votes['sumNotInPerson'].isna())), 'sumNotInPerson'] = votes['sumOtherVotes']"
   ]
  },
  {
   "cell_type": "code",
   "execution_count": 10,
   "metadata": {},
   "outputs": [],
   "source": [
    "# Drop useless columns and keep only records\n",
    "votes = votes.drop(columns=['voted', 'votedPhysical', 'votedUOCAVA', 'votedAbsentee', 'votedProvisional', 'votedEarlyVoteCenter', 'votedByMail', 'votedOther', 'votedOtherExplanation', 'sumOtherVotes'])"
   ]
  },
  {
   "cell_type": "code",
   "execution_count": 11,
   "metadata": {},
   "outputs": [],
   "source": [
    "votes['totalVotes'] = votes['sumInPerson'] + votes['sumNotInPerson']\n",
    "votes['inPersonComp'] = votes['sumInPerson']/votes['totalVotes']\n",
    "votes = votes[votes['inPersonComp'] >= .6]"
   ]
  },
  {
   "cell_type": "markdown",
   "metadata": {},
   "source": [
    "# Party Lines"
   ]
  },
  {
   "cell_type": "code",
   "execution_count": 12,
   "metadata": {},
   "outputs": [],
   "source": [
    "# Calculate number of 3rd party voters\n",
    "votes['sumDemRep'] =  votes['democrat'] + votes['republican']\n",
    "votes = votes[votes['totalVotes'] >= votes['sumDemRep']]\n",
    "votes['third'] = votes['totalVotes'] - votes['sumDemRep']\n",
    "votes['total']=votes['democrat']+votes['republican']+votes['third']"
   ]
  },
  {
   "cell_type": "code",
   "execution_count": 13,
   "metadata": {},
   "outputs": [],
   "source": [
    "# Calculate shares of each party per registered\n",
    "votes['shareRep'] = votes['republican']/votes['registered']\n",
    "votes['shareDem'] = votes['democrat']/votes['registered']\n",
    "votes['shareThird'] = votes['third']/votes['registered']"
   ]
  },
  {
   "cell_type": "code",
   "execution_count": 14,
   "metadata": {},
   "outputs": [],
   "source": [
    "# Calculate dem or rep state\n",
    "votes['isDem'] = votes['demState'] > votes['repState']"
   ]
  },
  {
   "cell_type": "code",
   "execution_count": 15,
   "metadata": {},
   "outputs": [],
   "source": [
    "# Drop unused columns\n",
    "votes = votes.drop(columns=['sumInPerson', 'sumNotInPerson', 'populationOver18', 'medianAge', 'totalVotes', 'inPersonComp', 'sumDemRep', 'registered', 'repState', 'demState', 'turnout', 'turnout2'])"
   ]
  },
  {
   "cell_type": "markdown",
   "metadata": {},
   "source": [
    "# 2012 Votes"
   ]
  },
  {
   "cell_type": "code",
   "execution_count": 16,
   "metadata": {},
   "outputs": [
    {
     "data": {
      "text/html": [
       "<div>\n",
       "<style scoped>\n",
       "    .dataframe tbody tr th:only-of-type {\n",
       "        vertical-align: middle;\n",
       "    }\n",
       "\n",
       "    .dataframe tbody tr th {\n",
       "        vertical-align: top;\n",
       "    }\n",
       "\n",
       "    .dataframe thead th {\n",
       "        text-align: right;\n",
       "    }\n",
       "</style>\n",
       "<table border=\"1\" class=\"dataframe\">\n",
       "  <thead>\n",
       "    <tr style=\"text-align: right;\">\n",
       "      <th></th>\n",
       "      <th>year</th>\n",
       "      <th>state</th>\n",
       "      <th>state_po</th>\n",
       "      <th>county</th>\n",
       "      <th>FIPS</th>\n",
       "      <th>office</th>\n",
       "      <th>candidate</th>\n",
       "      <th>party</th>\n",
       "      <th>candidatevotes</th>\n",
       "      <th>totalvotes</th>\n",
       "      <th>version</th>\n",
       "    </tr>\n",
       "  </thead>\n",
       "  <tbody>\n",
       "    <tr>\n",
       "      <th>0</th>\n",
       "      <td>2000</td>\n",
       "      <td>Alabama</td>\n",
       "      <td>AL</td>\n",
       "      <td>Autauga</td>\n",
       "      <td>1001.0</td>\n",
       "      <td>President</td>\n",
       "      <td>Al Gore</td>\n",
       "      <td>democrat</td>\n",
       "      <td>4942.0</td>\n",
       "      <td>17208</td>\n",
       "      <td>20191203</td>\n",
       "    </tr>\n",
       "    <tr>\n",
       "      <th>1</th>\n",
       "      <td>2000</td>\n",
       "      <td>Alabama</td>\n",
       "      <td>AL</td>\n",
       "      <td>Autauga</td>\n",
       "      <td>1001.0</td>\n",
       "      <td>President</td>\n",
       "      <td>George W. Bush</td>\n",
       "      <td>republican</td>\n",
       "      <td>11993.0</td>\n",
       "      <td>17208</td>\n",
       "      <td>20191203</td>\n",
       "    </tr>\n",
       "    <tr>\n",
       "      <th>2</th>\n",
       "      <td>2000</td>\n",
       "      <td>Alabama</td>\n",
       "      <td>AL</td>\n",
       "      <td>Autauga</td>\n",
       "      <td>1001.0</td>\n",
       "      <td>President</td>\n",
       "      <td>Ralph Nader</td>\n",
       "      <td>green</td>\n",
       "      <td>160.0</td>\n",
       "      <td>17208</td>\n",
       "      <td>20191203</td>\n",
       "    </tr>\n",
       "    <tr>\n",
       "      <th>3</th>\n",
       "      <td>2000</td>\n",
       "      <td>Alabama</td>\n",
       "      <td>AL</td>\n",
       "      <td>Autauga</td>\n",
       "      <td>1001.0</td>\n",
       "      <td>President</td>\n",
       "      <td>Other</td>\n",
       "      <td>other</td>\n",
       "      <td>113.0</td>\n",
       "      <td>17208</td>\n",
       "      <td>20191203</td>\n",
       "    </tr>\n",
       "    <tr>\n",
       "      <th>4</th>\n",
       "      <td>2000</td>\n",
       "      <td>Alabama</td>\n",
       "      <td>AL</td>\n",
       "      <td>Baldwin</td>\n",
       "      <td>1003.0</td>\n",
       "      <td>President</td>\n",
       "      <td>Al Gore</td>\n",
       "      <td>democrat</td>\n",
       "      <td>13997.0</td>\n",
       "      <td>56480</td>\n",
       "      <td>20191203</td>\n",
       "    </tr>\n",
       "  </tbody>\n",
       "</table>\n",
       "</div>"
      ],
      "text/plain": [
       "   year    state state_po   county    FIPS     office       candidate  \\\n",
       "0  2000  Alabama       AL  Autauga  1001.0  President         Al Gore   \n",
       "1  2000  Alabama       AL  Autauga  1001.0  President  George W. Bush   \n",
       "2  2000  Alabama       AL  Autauga  1001.0  President     Ralph Nader   \n",
       "3  2000  Alabama       AL  Autauga  1001.0  President           Other   \n",
       "4  2000  Alabama       AL  Baldwin  1003.0  President         Al Gore   \n",
       "\n",
       "        party  candidatevotes  totalvotes   version  \n",
       "0    democrat          4942.0       17208  20191203  \n",
       "1  republican         11993.0       17208  20191203  \n",
       "2       green           160.0       17208  20191203  \n",
       "3       other           113.0       17208  20191203  \n",
       "4    democrat         13997.0       56480  20191203  "
      ]
     },
     "execution_count": 16,
     "metadata": {},
     "output_type": "execute_result"
    }
   ],
   "source": [
    "hist = pd.read_csv(\"historicVoting.csv\")\n",
    "hist['party'] = hist['party'].fillna(\"other\")\n",
    "hist.head()"
   ]
  },
  {
   "cell_type": "code",
   "execution_count": 17,
   "metadata": {},
   "outputs": [],
   "source": [
    "hist = hist.pivot_table(index=['FIPS', 'year'], columns='party', values='candidatevotes').reset_index()\n",
    "hist = hist[hist['year']==2012]"
   ]
  },
  {
   "cell_type": "code",
   "execution_count": 18,
   "metadata": {},
   "outputs": [],
   "source": [
    "hist[['green', 'other']] = hist[['green', 'other']].fillna(0)\n",
    "hist['third'] = hist['green']+hist['other']\n",
    "hist['total'] = hist['democrat']+hist['republican']+hist['third']\n",
    "\n",
    "hist = hist.drop(columns=['green', 'other'])"
   ]
  },
  {
   "cell_type": "code",
   "execution_count": 19,
   "metadata": {},
   "outputs": [],
   "source": [
    "hist['shareDem'] = hist['democrat']/hist['total']\n",
    "hist['shareRep'] = hist['republican']/hist['total']\n",
    "hist['shareThird'] = hist['third']/hist['total']"
   ]
  },
  {
   "cell_type": "code",
   "execution_count": 20,
   "metadata": {},
   "outputs": [],
   "source": [
    "hist = hist.merge(votes[['FIPS', 'prcpMm1015', 'isDem', 'minTempC1015', 'maxTempC1015']], on='FIPS')\n",
    "hist = hist.rename({'prcpMm1015':'prcpMm', 'minTempC1015':'minTempC', 'maxTempC1015':'maxTempC'}, axis=\"columns\")\n",
    "hist['freezing'] = hist['minTempC']<=0"
   ]
  },
  {
   "cell_type": "code",
   "execution_count": 21,
   "metadata": {},
   "outputs": [],
   "source": [
    "hist = hist.merge(votes[['FIPS', 'prcpMm1015', 'minTempC1015', 'maxTempC1015']], on='FIPS')"
   ]
  },
  {
   "cell_type": "code",
   "execution_count": 22,
   "metadata": {},
   "outputs": [],
   "source": [
    "votes = votes.append(hist)"
   ]
  },
  {
   "cell_type": "markdown",
   "metadata": {},
   "source": [
    "# Weather Finding"
   ]
  },
  {
   "cell_type": "code",
   "execution_count": 23,
   "metadata": {},
   "outputs": [],
   "source": [
    "# Calculate avg temp for that election day\n",
    "votes = votes[votes['minTempC'].notna() & votes['maxTempC'].notna()]\n",
    "votes['avgTemp'] = votes[['minTempC', 'maxTempC']].mean(axis=1)\n",
    "\n",
    "# Calculate avg temp of past years\n",
    "votes = votes[votes['minTempC1015'].notna() & votes['maxTempC1015'].notna()]\n",
    "votes['avgTempPast'] = votes[['minTempC1015', 'maxTempC1015']].mean(axis=1)\n",
    "\n",
    "# Calculate difference between avg temp of that election day and before\n",
    "votes['tempDiff'] = votes['avgTemp'] - votes['avgTempPast']"
   ]
  },
  {
   "cell_type": "code",
   "execution_count": 24,
   "metadata": {},
   "outputs": [],
   "source": [
    "# Calculate difference between precipitation of that day and before\n",
    "votes['prcpMm'] = votes['prcpMm'].fillna(0)\n",
    "votes['rainDiff'] = votes['prcpMm'] - votes['prcpMm1015']"
   ]
  },
  {
   "cell_type": "code",
   "execution_count": 25,
   "metadata": {},
   "outputs": [],
   "source": [
    "# Buckets from definitions of rain intensity\n",
    "votes.loc[votes['prcpMm'] > 0, 'currRain'] = 1\n",
    "votes.loc[votes['prcpMm'] >= 2.5, 'currRain'] = 2\n",
    "votes.loc[votes['prcpMm'] >= 7.6, 'currRain'] = 3\n",
    "votes['currRain'] = votes['currRain'].fillna(0)\n",
    "\n",
    "votes.loc[votes['prcpMm1015'] > 0, 'pastRain'] = 1\n",
    "votes.loc[votes['prcpMm1015'] >= 2.5, 'pastRain'] = 2\n",
    "votes.loc[votes['prcpMm1015'] >= 7.6, 'pastRain'] = 3\n",
    "votes['pastRain'] = votes['pastRain'].fillna(0)\n",
    "\n",
    "votes['climateRainDiff'] = votes['currRain'] - votes['pastRain']\n",
    "votes['raining'] = votes['currRain'] > 0"
   ]
  },
  {
   "cell_type": "code",
   "execution_count": 26,
   "metadata": {},
   "outputs": [],
   "source": [
    "votes = votes.drop(columns=['minTempC', 'maxTempC', 'minTempC1015', 'maxTempC1015'])\n",
    "votes = votes.sort_values(by='FIPS')"
   ]
  },
  {
   "cell_type": "markdown",
   "metadata": {},
   "source": [
    "# Exporting"
   ]
  },
  {
   "cell_type": "code",
   "execution_count": 27,
   "metadata": {},
   "outputs": [],
   "source": [
    "votes.to_csv(\"../Analysis/votesCleaned.csv\")"
   ]
  },
  {
   "cell_type": "code",
   "execution_count": null,
   "metadata": {},
   "outputs": [],
   "source": []
  }
 ],
 "metadata": {
  "kernelspec": {
   "display_name": "Python 3",
   "language": "python",
   "name": "python3"
  },
  "language_info": {
   "codemirror_mode": {
    "name": "ipython",
    "version": 3
   },
   "file_extension": ".py",
   "mimetype": "text/x-python",
   "name": "python",
   "nbconvert_exporter": "python",
   "pygments_lexer": "ipython3",
   "version": "3.7.0"
  }
 },
 "nbformat": 4,
 "nbformat_minor": 2
}
