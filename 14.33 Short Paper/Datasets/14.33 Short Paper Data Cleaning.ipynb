{
 "cells": [
  {
   "cell_type": "code",
   "execution_count": 1,
   "metadata": {},
   "outputs": [],
   "source": [
    "import pandas as pd\n",
    "import numpy as np\n",
    "import matplotlib.pyplot as plt"
   ]
  },
  {
   "cell_type": "markdown",
   "metadata": {},
   "source": [
    "# Read and Drop"
   ]
  },
  {
   "cell_type": "code",
   "execution_count": 2,
   "metadata": {},
   "outputs": [
    {
     "data": {
      "text/plain": [
       "Index(['FIPS', 'stateFIPS', 'state', 'county', 'stateAbb', 'region',\n",
       "       'earlyVoting', 'democrat', 'republican', 'medianIncome',\n",
       "       'populationOver18', 'medianAge', 'educTillHS', 'educSomeCollege',\n",
       "       'educCollegeUp', 'shareWhite', 'shareBlack', 'shareAsian',\n",
       "       'shareOtherRace', 'shareHispanic', 'prcpMm', 'minTempC', 'maxTempC',\n",
       "       'prcpMm1015', 'minTempC1015', 'maxTempC1015', 'demSenate', 'repSenate',\n",
       "       'totalSenate', 'registered', 'numPollWorkers',\n",
       "       'difficultToObtainPollWorkers', 'voted', 'votedPhysical', 'votedUOCAVA',\n",
       "       'votedAbsentee', 'votedProvisional', 'votedEarlyVoteCenter',\n",
       "       'votedByMail', 'votedOther', 'votedOtherExplanation', 'allowSameDay',\n",
       "       'repState', 'demState', 'closeElection', 'turnout', 'turnout2',\n",
       "       'haveSenate', 'closeSenate', 'closePresSenate', 'freezing',\n",
       "       'shareSameDay', 'shareRep'],\n",
       "      dtype='object')"
      ]
     },
     "execution_count": 2,
     "metadata": {},
     "output_type": "execute_result"
    }
   ],
   "source": [
    "votes = pd.read_csv(\"Voting.csv\")\n",
    "votes.columns"
   ]
  },
  {
   "cell_type": "code",
   "execution_count": 3,
   "metadata": {},
   "outputs": [
    {
     "data": {
      "text/html": [
       "<div>\n",
       "<style scoped>\n",
       "    .dataframe tbody tr th:only-of-type {\n",
       "        vertical-align: middle;\n",
       "    }\n",
       "\n",
       "    .dataframe tbody tr th {\n",
       "        vertical-align: top;\n",
       "    }\n",
       "\n",
       "    .dataframe thead th {\n",
       "        text-align: right;\n",
       "    }\n",
       "</style>\n",
       "<table border=\"1\" class=\"dataframe\">\n",
       "  <thead>\n",
       "    <tr style=\"text-align: right;\">\n",
       "      <th></th>\n",
       "      <th>FIPS</th>\n",
       "      <th>county</th>\n",
       "      <th>stateAbb</th>\n",
       "      <th>region</th>\n",
       "      <th>democrat</th>\n",
       "      <th>republican</th>\n",
       "      <th>medianIncome</th>\n",
       "      <th>populationOver18</th>\n",
       "      <th>medianAge</th>\n",
       "      <th>prcpMm</th>\n",
       "      <th>...</th>\n",
       "      <th>votedEarlyVoteCenter</th>\n",
       "      <th>votedByMail</th>\n",
       "      <th>votedOther</th>\n",
       "      <th>votedOtherExplanation</th>\n",
       "      <th>repState</th>\n",
       "      <th>demState</th>\n",
       "      <th>turnout</th>\n",
       "      <th>turnout2</th>\n",
       "      <th>freezing</th>\n",
       "      <th>shareRep</th>\n",
       "    </tr>\n",
       "  </thead>\n",
       "  <tbody>\n",
       "    <tr>\n",
       "      <th>0</th>\n",
       "      <td>1001</td>\n",
       "      <td>Autauga</td>\n",
       "      <td>AL</td>\n",
       "      <td>South</td>\n",
       "      <td>5936.0</td>\n",
       "      <td>18172</td>\n",
       "      <td>53.099</td>\n",
       "      <td>41196</td>\n",
       "      <td>37.8</td>\n",
       "      <td>0.000000</td>\n",
       "      <td>...</td>\n",
       "      <td>NaN</td>\n",
       "      <td>NaN</td>\n",
       "      <td>NaN</td>\n",
       "      <td>NaN</td>\n",
       "      <td>1318250</td>\n",
       "      <td>729547.0</td>\n",
       "      <td>0.585202</td>\n",
       "      <td>0.610399</td>\n",
       "      <td>NaN</td>\n",
       "      <td>0.753775</td>\n",
       "    </tr>\n",
       "    <tr>\n",
       "      <th>1</th>\n",
       "      <td>1003</td>\n",
       "      <td>Baldwin</td>\n",
       "      <td>AL</td>\n",
       "      <td>South</td>\n",
       "      <td>18458.0</td>\n",
       "      <td>72883</td>\n",
       "      <td>51.365</td>\n",
       "      <td>155240</td>\n",
       "      <td>42.3</td>\n",
       "      <td>0.110000</td>\n",
       "      <td>...</td>\n",
       "      <td>NaN</td>\n",
       "      <td>NaN</td>\n",
       "      <td>NaN</td>\n",
       "      <td>NaN</td>\n",
       "      <td>1318250</td>\n",
       "      <td>729547.0</td>\n",
       "      <td>0.588386</td>\n",
       "      <td>0.619872</td>\n",
       "      <td>NaN</td>\n",
       "      <td>0.797922</td>\n",
       "    </tr>\n",
       "    <tr>\n",
       "      <th>2</th>\n",
       "      <td>1005</td>\n",
       "      <td>Barbour</td>\n",
       "      <td>AL</td>\n",
       "      <td>South</td>\n",
       "      <td>4871.0</td>\n",
       "      <td>5454</td>\n",
       "      <td>33.956</td>\n",
       "      <td>20879</td>\n",
       "      <td>38.7</td>\n",
       "      <td>0.000000</td>\n",
       "      <td>...</td>\n",
       "      <td>NaN</td>\n",
       "      <td>NaN</td>\n",
       "      <td>NaN</td>\n",
       "      <td>NaN</td>\n",
       "      <td>1318250</td>\n",
       "      <td>729547.0</td>\n",
       "      <td>0.494516</td>\n",
       "      <td>0.505005</td>\n",
       "      <td>False</td>\n",
       "      <td>0.528232</td>\n",
       "    </tr>\n",
       "    <tr>\n",
       "      <th>3</th>\n",
       "      <td>1007</td>\n",
       "      <td>Bibb</td>\n",
       "      <td>AL</td>\n",
       "      <td>South</td>\n",
       "      <td>1874.0</td>\n",
       "      <td>6738</td>\n",
       "      <td>39.776</td>\n",
       "      <td>17816</td>\n",
       "      <td>40.2</td>\n",
       "      <td>0.000000</td>\n",
       "      <td>...</td>\n",
       "      <td>NaN</td>\n",
       "      <td>NaN</td>\n",
       "      <td>NaN</td>\n",
       "      <td>NaN</td>\n",
       "      <td>1318250</td>\n",
       "      <td>729547.0</td>\n",
       "      <td>0.483386</td>\n",
       "      <td>0.496913</td>\n",
       "      <td>False</td>\n",
       "      <td>0.782397</td>\n",
       "    </tr>\n",
       "    <tr>\n",
       "      <th>4</th>\n",
       "      <td>1009</td>\n",
       "      <td>Blount</td>\n",
       "      <td>AL</td>\n",
       "      <td>South</td>\n",
       "      <td>2156.0</td>\n",
       "      <td>22859</td>\n",
       "      <td>46.212</td>\n",
       "      <td>44103</td>\n",
       "      <td>40.8</td>\n",
       "      <td>0.000000</td>\n",
       "      <td>...</td>\n",
       "      <td>NaN</td>\n",
       "      <td>NaN</td>\n",
       "      <td>NaN</td>\n",
       "      <td>NaN</td>\n",
       "      <td>1318250</td>\n",
       "      <td>729547.0</td>\n",
       "      <td>0.567195</td>\n",
       "      <td>0.583634</td>\n",
       "      <td>False</td>\n",
       "      <td>0.913812</td>\n",
       "    </tr>\n",
       "    <tr>\n",
       "      <th>...</th>\n",
       "      <td>...</td>\n",
       "      <td>...</td>\n",
       "      <td>...</td>\n",
       "      <td>...</td>\n",
       "      <td>...</td>\n",
       "      <td>...</td>\n",
       "      <td>...</td>\n",
       "      <td>...</td>\n",
       "      <td>...</td>\n",
       "      <td>...</td>\n",
       "      <td>...</td>\n",
       "      <td>...</td>\n",
       "      <td>...</td>\n",
       "      <td>...</td>\n",
       "      <td>...</td>\n",
       "      <td>...</td>\n",
       "      <td>...</td>\n",
       "      <td>...</td>\n",
       "      <td>...</td>\n",
       "      <td>...</td>\n",
       "      <td>...</td>\n",
       "    </tr>\n",
       "    <tr>\n",
       "      <th>3105</th>\n",
       "      <td>56037</td>\n",
       "      <td>Sweetwater</td>\n",
       "      <td>WY</td>\n",
       "      <td>West</td>\n",
       "      <td>3231.0</td>\n",
       "      <td>12154</td>\n",
       "      <td>68.233</td>\n",
       "      <td>32468</td>\n",
       "      <td>33.8</td>\n",
       "      <td>0.000000</td>\n",
       "      <td>...</td>\n",
       "      <td>1.0</td>\n",
       "      <td>0.0</td>\n",
       "      <td>NaN</td>\n",
       "      <td>NaN</td>\n",
       "      <td>174419</td>\n",
       "      <td>55973.0</td>\n",
       "      <td>0.473851</td>\n",
       "      <td>NaN</td>\n",
       "      <td>True</td>\n",
       "      <td>0.789990</td>\n",
       "    </tr>\n",
       "    <tr>\n",
       "      <th>3106</th>\n",
       "      <td>56039</td>\n",
       "      <td>Teton</td>\n",
       "      <td>WY</td>\n",
       "      <td>West</td>\n",
       "      <td>7314.0</td>\n",
       "      <td>3921</td>\n",
       "      <td>75.594</td>\n",
       "      <td>18212</td>\n",
       "      <td>38.4</td>\n",
       "      <td>0.033333</td>\n",
       "      <td>...</td>\n",
       "      <td>1.0</td>\n",
       "      <td>4663.0</td>\n",
       "      <td>NaN</td>\n",
       "      <td>NaN</td>\n",
       "      <td>174419</td>\n",
       "      <td>55973.0</td>\n",
       "      <td>0.616901</td>\n",
       "      <td>NaN</td>\n",
       "      <td>True</td>\n",
       "      <td>0.348999</td>\n",
       "    </tr>\n",
       "    <tr>\n",
       "      <th>3107</th>\n",
       "      <td>56041</td>\n",
       "      <td>Uinta</td>\n",
       "      <td>WY</td>\n",
       "      <td>West</td>\n",
       "      <td>1202.0</td>\n",
       "      <td>6154</td>\n",
       "      <td>53.323</td>\n",
       "      <td>14717</td>\n",
       "      <td>34.8</td>\n",
       "      <td>0.000000</td>\n",
       "      <td>...</td>\n",
       "      <td>1.0</td>\n",
       "      <td>1372.0</td>\n",
       "      <td>NaN</td>\n",
       "      <td>NaN</td>\n",
       "      <td>174419</td>\n",
       "      <td>55973.0</td>\n",
       "      <td>0.499830</td>\n",
       "      <td>NaN</td>\n",
       "      <td>False</td>\n",
       "      <td>0.836596</td>\n",
       "    </tr>\n",
       "    <tr>\n",
       "      <th>3108</th>\n",
       "      <td>56043</td>\n",
       "      <td>Washakie</td>\n",
       "      <td>WY</td>\n",
       "      <td>West</td>\n",
       "      <td>532.0</td>\n",
       "      <td>2911</td>\n",
       "      <td>46.212</td>\n",
       "      <td>6279</td>\n",
       "      <td>43.5</td>\n",
       "      <td>0.000000</td>\n",
       "      <td>...</td>\n",
       "      <td>0.0</td>\n",
       "      <td>0.0</td>\n",
       "      <td>NaN</td>\n",
       "      <td>NaN</td>\n",
       "      <td>174419</td>\n",
       "      <td>55973.0</td>\n",
       "      <td>0.548336</td>\n",
       "      <td>NaN</td>\n",
       "      <td>True</td>\n",
       "      <td>0.845484</td>\n",
       "    </tr>\n",
       "    <tr>\n",
       "      <th>3109</th>\n",
       "      <td>56045</td>\n",
       "      <td>Weston</td>\n",
       "      <td>WY</td>\n",
       "      <td>West</td>\n",
       "      <td>299.0</td>\n",
       "      <td>3033</td>\n",
       "      <td>55.640</td>\n",
       "      <td>5664</td>\n",
       "      <td>43.8</td>\n",
       "      <td>0.000000</td>\n",
       "      <td>...</td>\n",
       "      <td>0.0</td>\n",
       "      <td>0.0</td>\n",
       "      <td>NaN</td>\n",
       "      <td>NaN</td>\n",
       "      <td>174419</td>\n",
       "      <td>55973.0</td>\n",
       "      <td>0.588277</td>\n",
       "      <td>NaN</td>\n",
       "      <td>NaN</td>\n",
       "      <td>0.910264</td>\n",
       "    </tr>\n",
       "  </tbody>\n",
       "</table>\n",
       "<p>3110 rows × 31 columns</p>\n",
       "</div>"
      ],
      "text/plain": [
       "       FIPS      county stateAbb region  democrat  republican  medianIncome  \\\n",
       "0      1001     Autauga       AL  South    5936.0       18172        53.099   \n",
       "1      1003     Baldwin       AL  South   18458.0       72883        51.365   \n",
       "2      1005     Barbour       AL  South    4871.0        5454        33.956   \n",
       "3      1007        Bibb       AL  South    1874.0        6738        39.776   \n",
       "4      1009      Blount       AL  South    2156.0       22859        46.212   \n",
       "...     ...         ...      ...    ...       ...         ...           ...   \n",
       "3105  56037  Sweetwater       WY   West    3231.0       12154        68.233   \n",
       "3106  56039       Teton       WY   West    7314.0        3921        75.594   \n",
       "3107  56041       Uinta       WY   West    1202.0        6154        53.323   \n",
       "3108  56043    Washakie       WY   West     532.0        2911        46.212   \n",
       "3109  56045      Weston       WY   West     299.0        3033        55.640   \n",
       "\n",
       "      populationOver18  medianAge    prcpMm  ...  votedEarlyVoteCenter  \\\n",
       "0                41196       37.8  0.000000  ...                   NaN   \n",
       "1               155240       42.3  0.110000  ...                   NaN   \n",
       "2                20879       38.7  0.000000  ...                   NaN   \n",
       "3                17816       40.2  0.000000  ...                   NaN   \n",
       "4                44103       40.8  0.000000  ...                   NaN   \n",
       "...                ...        ...       ...  ...                   ...   \n",
       "3105             32468       33.8  0.000000  ...                   1.0   \n",
       "3106             18212       38.4  0.033333  ...                   1.0   \n",
       "3107             14717       34.8  0.000000  ...                   1.0   \n",
       "3108              6279       43.5  0.000000  ...                   0.0   \n",
       "3109              5664       43.8  0.000000  ...                   0.0   \n",
       "\n",
       "      votedByMail  votedOther  votedOtherExplanation  repState  demState  \\\n",
       "0             NaN         NaN                    NaN   1318250  729547.0   \n",
       "1             NaN         NaN                    NaN   1318250  729547.0   \n",
       "2             NaN         NaN                    NaN   1318250  729547.0   \n",
       "3             NaN         NaN                    NaN   1318250  729547.0   \n",
       "4             NaN         NaN                    NaN   1318250  729547.0   \n",
       "...           ...         ...                    ...       ...       ...   \n",
       "3105          0.0         NaN                    NaN    174419   55973.0   \n",
       "3106       4663.0         NaN                    NaN    174419   55973.0   \n",
       "3107       1372.0         NaN                    NaN    174419   55973.0   \n",
       "3108          0.0         NaN                    NaN    174419   55973.0   \n",
       "3109          0.0         NaN                    NaN    174419   55973.0   \n",
       "\n",
       "       turnout  turnout2  freezing  shareRep  \n",
       "0     0.585202  0.610399       NaN  0.753775  \n",
       "1     0.588386  0.619872       NaN  0.797922  \n",
       "2     0.494516  0.505005     False  0.528232  \n",
       "3     0.483386  0.496913     False  0.782397  \n",
       "4     0.567195  0.583634     False  0.913812  \n",
       "...        ...       ...       ...       ...  \n",
       "3105  0.473851       NaN      True  0.789990  \n",
       "3106  0.616901       NaN      True  0.348999  \n",
       "3107  0.499830       NaN     False  0.836596  \n",
       "3108  0.548336       NaN      True  0.845484  \n",
       "3109  0.588277       NaN       NaN  0.910264  \n",
       "\n",
       "[3110 rows x 31 columns]"
      ]
     },
     "execution_count": 3,
     "metadata": {},
     "output_type": "execute_result"
    }
   ],
   "source": [
    "drops = ['stateFIPS', 'educTillHS', 'educSomeCollege', 'educCollegeUp',\n",
    "         'state', 'shareWhite', 'shareBlack', 'shareAsian', 'shareOtherRace', 'shareHispanic', \n",
    "         'demSenate', 'repSenate', 'totalSenate', 'haveSenate', 'closeSenate', 'closePresSenate',\n",
    "         'numPollWorkers', 'difficultToObtainPollWorkers', \n",
    "         'allowSameDay', 'earlyVoting', 'closeElection', 'shareSameDay']\n",
    "# 'voted', \n",
    "votes = votes.drop(columns=drops)\n",
    "votes"
   ]
  },
  {
   "cell_type": "markdown",
   "metadata": {},
   "source": [
    "# Ensuring there are an adequate amount of in-person votes"
   ]
  },
  {
   "cell_type": "code",
   "execution_count": 4,
   "metadata": {},
   "outputs": [],
   "source": [
    "# Replace all NAs for voting numbers to 0\n",
    "votes[['voted', 'votedPhysical', 'votedUOCAVA', 'votedAbsentee', 'votedProvisional', 'votedEarlyVoteCenter', 'votedByMail', 'votedOther', 'votedOtherExplanation']] = votes[['voted', 'votedPhysical', 'votedUOCAVA', 'votedAbsentee', 'votedProvisional', 'votedEarlyVoteCenter', 'votedByMail', 'votedOther', 'votedOtherExplanation']].fillna(0)"
   ]
  },
  {
   "cell_type": "code",
   "execution_count": 5,
   "metadata": {},
   "outputs": [],
   "source": [
    "# Drop records that don't have a voted or votedPhysical component (no data on in-person votes)\n",
    "votes.loc[((votes['votedPhysical']==0) & (votes['voted']==0)), 'noVotedData'] = True\n",
    "votes = votes[votes['noVotedData'] != True]\n",
    "votes = votes.drop(columns=['noVotedData'])"
   ]
  },
  {
   "cell_type": "markdown",
   "metadata": {},
   "source": [
    "## 3 Cases:"
   ]
  },
  {
   "cell_type": "code",
   "execution_count": 6,
   "metadata": {},
   "outputs": [],
   "source": [
    "# Useful partial for sum of non votedPhysical\n",
    "votes['sumOtherVotes'] = votes['votedUOCAVA'] +  votes['votedAbsentee'] + votes['votedProvisional'] + votes['votedEarlyVoteCenter'] + votes['votedByMail'] + votes['votedOther'] + votes['votedOtherExplanation']"
   ]
  },
  {
   "cell_type": "code",
   "execution_count": 7,
   "metadata": {},
   "outputs": [],
   "source": [
    "# Case 1: voted and votedPhysical are not null\n",
    "votes.loc[((votes['votedPhysical']!=0) & (votes['voted']!=0)), 'sumInPerson'] = votes['votedPhysical']\n",
    "votes.loc[((votes['votedPhysical']!=0) & (votes['voted']!=0)), 'sumNotInPerson'] = votes['voted'] - votes['votedPhysical']"
   ]
  },
  {
   "cell_type": "code",
   "execution_count": 8,
   "metadata": {},
   "outputs": [],
   "source": [
    "# Case 2: votedPhysical is null -> use voted\n",
    "votes.loc[((votes['voted']!=0) & (votes['sumInPerson'].isna())), 'sumInPerson'] = votes['voted'] - votes['sumOtherVotes']\n",
    "votes.loc[((votes['voted']!=0) & (votes['sumNotInPerson'].isna())), 'sumNotInPerson'] = votes['sumOtherVotes']"
   ]
  },
  {
   "cell_type": "code",
   "execution_count": 9,
   "metadata": {
    "scrolled": true
   },
   "outputs": [],
   "source": [
    "# Case 3: voted is null -> use votedPhysical\n",
    "votes.loc[((votes['votedPhysical']!=0) & (votes['sumInPerson'].isna())), 'sumInPerson'] = votes['votedPhysical']\n",
    "votes.loc[((votes['votedPhysical']!=0) & (votes['sumNotInPerson'].isna())), 'sumNotInPerson'] = votes['sumOtherVotes']"
   ]
  },
  {
   "cell_type": "code",
   "execution_count": 10,
   "metadata": {},
   "outputs": [],
   "source": [
    "# Drop useless columns and keep only records\n",
    "votes = votes.drop(columns=['voted', 'votedPhysical', 'votedUOCAVA', 'votedAbsentee', 'votedProvisional', 'votedEarlyVoteCenter', 'votedByMail', 'votedOther', 'votedOtherExplanation', 'sumOtherVotes'])"
   ]
  },
  {
   "cell_type": "code",
   "execution_count": 11,
   "metadata": {},
   "outputs": [],
   "source": [
    "votes['totalVotes'] = votes['sumInPerson'] + votes['sumNotInPerson']\n",
    "votes['inPersonComp'] = votes['sumInPerson']/votes['totalVotes']\n",
    "votes = votes[votes['inPersonComp'] >= .7]"
   ]
  },
  {
   "cell_type": "markdown",
   "metadata": {},
   "source": [
    "# Party Lines"
   ]
  },
  {
   "cell_type": "code",
   "execution_count": 12,
   "metadata": {},
   "outputs": [],
   "source": [
    "# Calculate number of 3rd party voters\n",
    "votes['sumDemRep'] =  votes['democrat'] + votes['republican']\n",
    "votes = votes[votes['totalVotes'] >= votes['sumDemRep']]\n",
    "votes['third'] = votes['totalVotes'] - votes['sumDemRep']"
   ]
  },
  {
   "cell_type": "code",
   "execution_count": 13,
   "metadata": {},
   "outputs": [],
   "source": [
    "# Calculate shares of each party per registered\n",
    "votes['shareRep'] = votes['republican']/votes['registered']\n",
    "votes['shareDem'] = votes['democrat']/votes['registered']\n",
    "votes['shareThird'] = votes['third']/votes['registered']"
   ]
  },
  {
   "cell_type": "code",
   "execution_count": 14,
   "metadata": {},
   "outputs": [
    {
     "data": {
      "text/plain": [
       "Index(['FIPS', 'county', 'stateAbb', 'region', 'democrat', 'republican',\n",
       "       'medianIncome', 'populationOver18', 'medianAge', 'prcpMm', 'minTempC',\n",
       "       'maxTempC', 'prcpMm1015', 'minTempC1015', 'maxTempC1015', 'registered',\n",
       "       'repState', 'demState', 'turnout', 'turnout2', 'freezing', 'shareRep',\n",
       "       'sumInPerson', 'sumNotInPerson', 'totalVotes', 'inPersonComp',\n",
       "       'sumDemRep', 'third', 'shareDem', 'shareThird', 'isDem'],\n",
       "      dtype='object')"
      ]
     },
     "execution_count": 14,
     "metadata": {},
     "output_type": "execute_result"
    }
   ],
   "source": [
    "# Calculate dem or rep state\n",
    "votes['isDem'] = votes['demState'] > votes['repState']\n",
    "votes.columns"
   ]
  },
  {
   "cell_type": "code",
   "execution_count": 15,
   "metadata": {},
   "outputs": [],
   "source": [
    "# Drop unused columns\n",
    "votes = votes.drop(columns=['sumInPerson', 'sumNotInPerson', 'populationOver18', 'medianAge', 'totalVotes', 'inPersonComp', 'sumDemRep', 'registered', 'repState', 'demState', 'turnout', 'turnout2'])"
   ]
  },
  {
   "cell_type": "markdown",
   "metadata": {},
   "source": [
    "# Weather Finding"
   ]
  },
  {
   "cell_type": "code",
   "execution_count": 16,
   "metadata": {},
   "outputs": [],
   "source": [
    "# Calculate avg temp for that election day\n",
    "votes = votes[votes['minTempC'].notna() & votes['maxTempC'].notna()]\n",
    "votes['avgTemp'] = votes[['minTempC', 'maxTempC']].mean(axis=1)"
   ]
  },
  {
   "cell_type": "code",
   "execution_count": 17,
   "metadata": {},
   "outputs": [],
   "source": [
    "# Calculate avg temp of past years\n",
    "votes = votes[votes['minTempC1015'].notna() & votes['maxTempC1015'].notna()]\n",
    "#votes['20range'] = (votes['maxTempC1015']-votes['minTempC1015'])*.2\n",
    "votes['avgTempPast'] = votes[['minTempC1015', 'maxTempC1015']].mean(axis=1)"
   ]
  },
  {
   "cell_type": "code",
   "execution_count": 18,
   "metadata": {},
   "outputs": [],
   "source": [
    "# Calculate difference between avg temp of that election day and before\n",
    "votes['tempDiff'] = votes['avgTemp'] - votes['avgTempPast']"
   ]
  },
  {
   "cell_type": "code",
   "execution_count": 19,
   "metadata": {},
   "outputs": [],
   "source": [
    "# Calculate difference between precipitation of that day and before\n",
    "votes = votes[votes['prcpMm'].notna()]\n",
    "votes['rainDiff'] = votes['prcpMm'] - votes['prcpMm1015']"
   ]
  },
  {
   "cell_type": "markdown",
   "metadata": {},
   "source": [
    "# Exporting"
   ]
  },
  {
   "cell_type": "code",
   "execution_count": 20,
   "metadata": {},
   "outputs": [],
   "source": [
    "votes.to_csv(\"votesCleaned.csv\")"
   ]
  },
  {
   "cell_type": "code",
   "execution_count": null,
   "metadata": {},
   "outputs": [],
   "source": []
  }
 ],
 "metadata": {
  "kernelspec": {
   "display_name": "Python 3",
   "language": "python",
   "name": "python3"
  },
  "language_info": {
   "codemirror_mode": {
    "name": "ipython",
    "version": 3
   },
   "file_extension": ".py",
   "mimetype": "text/x-python",
   "name": "python",
   "nbconvert_exporter": "python",
   "pygments_lexer": "ipython3",
   "version": "3.7.0"
  }
 },
 "nbformat": 4,
 "nbformat_minor": 2
}
